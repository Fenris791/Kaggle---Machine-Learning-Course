{
 "cells": [
  {
   "cell_type": "code",
   "execution_count": 122,
   "metadata": {},
   "outputs": [],
   "source": [
    "#Import Libraries\n",
    "import numpy as np\n",
    "import pandas as pd\n",
    "import matplotlib.pyplot as plt\n",
    "import seaborn as sns\n",
    "import re as re\n",
    "from sklearn.tree import DecisionTreeClassifier\n",
    "#To ignore warnings\n",
    "import warnings\n",
    "warnings.filterwarnings(\"ignore\")"
   ]
  },
  {
   "cell_type": "code",
   "execution_count": 123,
   "metadata": {},
   "outputs": [],
   "source": [
    "#import data and assign to DataFrames\n",
    "df_train = pd.read_csv('train.csv')\n",
    "df_test = pd.read_csv('test.csv')\n",
    "df_all = [df_train, df_test]"
   ]
  },
  {
   "cell_type": "code",
   "execution_count": 135,
   "metadata": {},
   "outputs": [
    {
     "data": {
      "text/html": [
       "<div>\n",
       "<style scoped>\n",
       "    .dataframe tbody tr th:only-of-type {\n",
       "        vertical-align: middle;\n",
       "    }\n",
       "\n",
       "    .dataframe tbody tr th {\n",
       "        vertical-align: top;\n",
       "    }\n",
       "\n",
       "    .dataframe thead th {\n",
       "        text-align: right;\n",
       "    }\n",
       "</style>\n",
       "<table border=\"1\" class=\"dataframe\">\n",
       "  <thead>\n",
       "    <tr style=\"text-align: right;\">\n",
       "      <th></th>\n",
       "      <th>PassengerId</th>\n",
       "      <th>Survived</th>\n",
       "      <th>Pclass</th>\n",
       "      <th>Age</th>\n",
       "      <th>SibSp</th>\n",
       "      <th>Parch</th>\n",
       "      <th>Fare</th>\n",
       "    </tr>\n",
       "  </thead>\n",
       "  <tbody>\n",
       "    <tr>\n",
       "      <th>count</th>\n",
       "      <td>891.000000</td>\n",
       "      <td>891.000000</td>\n",
       "      <td>891.000000</td>\n",
       "      <td>891.000000</td>\n",
       "      <td>891.000000</td>\n",
       "      <td>891.000000</td>\n",
       "      <td>891.000000</td>\n",
       "    </tr>\n",
       "    <tr>\n",
       "      <th>mean</th>\n",
       "      <td>446.000000</td>\n",
       "      <td>0.383838</td>\n",
       "      <td>2.308642</td>\n",
       "      <td>29.191919</td>\n",
       "      <td>0.523008</td>\n",
       "      <td>0.381594</td>\n",
       "      <td>32.204208</td>\n",
       "    </tr>\n",
       "    <tr>\n",
       "      <th>std</th>\n",
       "      <td>257.353842</td>\n",
       "      <td>0.486592</td>\n",
       "      <td>0.836071</td>\n",
       "      <td>13.498988</td>\n",
       "      <td>1.102743</td>\n",
       "      <td>0.806057</td>\n",
       "      <td>49.693429</td>\n",
       "    </tr>\n",
       "    <tr>\n",
       "      <th>min</th>\n",
       "      <td>1.000000</td>\n",
       "      <td>0.000000</td>\n",
       "      <td>1.000000</td>\n",
       "      <td>0.000000</td>\n",
       "      <td>0.000000</td>\n",
       "      <td>0.000000</td>\n",
       "      <td>0.000000</td>\n",
       "    </tr>\n",
       "    <tr>\n",
       "      <th>25%</th>\n",
       "      <td>223.500000</td>\n",
       "      <td>0.000000</td>\n",
       "      <td>2.000000</td>\n",
       "      <td>20.000000</td>\n",
       "      <td>0.000000</td>\n",
       "      <td>0.000000</td>\n",
       "      <td>7.910400</td>\n",
       "    </tr>\n",
       "    <tr>\n",
       "      <th>50%</th>\n",
       "      <td>446.000000</td>\n",
       "      <td>0.000000</td>\n",
       "      <td>3.000000</td>\n",
       "      <td>28.000000</td>\n",
       "      <td>0.000000</td>\n",
       "      <td>0.000000</td>\n",
       "      <td>14.454200</td>\n",
       "    </tr>\n",
       "    <tr>\n",
       "      <th>75%</th>\n",
       "      <td>668.500000</td>\n",
       "      <td>1.000000</td>\n",
       "      <td>3.000000</td>\n",
       "      <td>36.000000</td>\n",
       "      <td>1.000000</td>\n",
       "      <td>0.000000</td>\n",
       "      <td>31.000000</td>\n",
       "    </tr>\n",
       "    <tr>\n",
       "      <th>max</th>\n",
       "      <td>891.000000</td>\n",
       "      <td>1.000000</td>\n",
       "      <td>3.000000</td>\n",
       "      <td>80.000000</td>\n",
       "      <td>8.000000</td>\n",
       "      <td>6.000000</td>\n",
       "      <td>512.329200</td>\n",
       "    </tr>\n",
       "  </tbody>\n",
       "</table>\n",
       "</div>"
      ],
      "text/plain": [
       "       PassengerId    Survived      Pclass         Age       SibSp  \\\n",
       "count   891.000000  891.000000  891.000000  891.000000  891.000000   \n",
       "mean    446.000000    0.383838    2.308642   29.191919    0.523008   \n",
       "std     257.353842    0.486592    0.836071   13.498988    1.102743   \n",
       "min       1.000000    0.000000    1.000000    0.000000    0.000000   \n",
       "25%     223.500000    0.000000    2.000000   20.000000    0.000000   \n",
       "50%     446.000000    0.000000    3.000000   28.000000    0.000000   \n",
       "75%     668.500000    1.000000    3.000000   36.000000    1.000000   \n",
       "max     891.000000    1.000000    3.000000   80.000000    8.000000   \n",
       "\n",
       "            Parch        Fare  \n",
       "count  891.000000  891.000000  \n",
       "mean     0.381594   32.204208  \n",
       "std      0.806057   49.693429  \n",
       "min      0.000000    0.000000  \n",
       "25%      0.000000    7.910400  \n",
       "50%      0.000000   14.454200  \n",
       "75%      0.000000   31.000000  \n",
       "max      6.000000  512.329200  "
      ]
     },
     "execution_count": 135,
     "metadata": {},
     "output_type": "execute_result"
    }
   ],
   "source": [
    "# Get an over view of the data\n",
    "#print(df_train.dtypes.reset_index()) # df_train Columns Data\n",
    "df_train.describe()\n"
   ]
  },
  {
   "cell_type": "code",
   "execution_count": 125,
   "metadata": {},
   "outputs": [
    {
     "name": "stdout",
     "output_type": "stream",
     "text": [
      "<class 'pandas.core.frame.DataFrame'>\n",
      "RangeIndex: 891 entries, 0 to 890\n",
      "Data columns (total 12 columns):\n",
      "PassengerId    891 non-null int64\n",
      "Survived       891 non-null int64\n",
      "Pclass         891 non-null int64\n",
      "Name           891 non-null object\n",
      "Sex            891 non-null object\n",
      "Age            714 non-null float64\n",
      "SibSp          891 non-null int64\n",
      "Parch          891 non-null int64\n",
      "Ticket         891 non-null object\n",
      "Fare           891 non-null float64\n",
      "Cabin          204 non-null object\n",
      "Embarked       889 non-null object\n",
      "dtypes: float64(2), int64(5), object(5)\n",
      "memory usage: 83.6+ KB\n"
     ]
    }
   ],
   "source": [
    "df_train.info()"
   ]
  },
  {
   "cell_type": "code",
   "execution_count": 126,
   "metadata": {},
   "outputs": [
    {
     "data": {
      "text/plain": [
       "PassengerId      0\n",
       "Survived         0\n",
       "Pclass           0\n",
       "Name             0\n",
       "Sex              0\n",
       "Age            177\n",
       "SibSp            0\n",
       "Parch            0\n",
       "Ticket           0\n",
       "Fare             0\n",
       "Cabin          687\n",
       "Embarked         2\n",
       "dtype: int64"
      ]
     },
     "execution_count": 126,
     "metadata": {},
     "output_type": "execute_result"
    }
   ],
   "source": [
    "df_train.isnull().sum(axis = 0)"
   ]
  },
  {
   "cell_type": "code",
   "execution_count": 127,
   "metadata": {},
   "outputs": [
    {
     "name": "stdout",
     "output_type": "stream",
     "text": [
      "   Pclass  Survived\n",
      "0       1  0.629630\n",
      "1       2  0.472826\n",
      "2       3  0.242363\n"
     ]
    }
   ],
   "source": [
    "# Pclass \n",
    "print(df_train[[\"Pclass\",\"Survived\"]].groupby([\"Pclass\"], as_index = False).mean())"
   ]
  },
  {
   "cell_type": "code",
   "execution_count": 128,
   "metadata": {},
   "outputs": [
    {
     "name": "stdout",
     "output_type": "stream",
     "text": [
      "      Sex  Survived\n",
      "0  female  0.742038\n",
      "1    male  0.188908\n"
     ]
    }
   ],
   "source": [
    "# Sex\n",
    "print( df_train[[\"Sex\",\"Survived\"]].groupby([\"Sex\"], as_index = False).mean() )"
   ]
  },
  {
   "cell_type": "code",
   "execution_count": 129,
   "metadata": {
    "scrolled": true
   },
   "outputs": [
    {
     "name": "stdout",
     "output_type": "stream",
     "text": [
      "      Age  Survived\n",
      "0    0.42  1.000000\n",
      "1    0.67  1.000000\n",
      "2    0.75  1.000000\n",
      "3    0.83  1.000000\n",
      "4    0.92  1.000000\n",
      "5    1.00  0.714286\n",
      "6    2.00  0.300000\n",
      "7    3.00  0.833333\n",
      "8    4.00  0.700000\n",
      "9    5.00  1.000000\n",
      "10   6.00  0.666667\n",
      "11   7.00  0.333333\n",
      "12   8.00  0.500000\n",
      "13   9.00  0.250000\n",
      "14  10.00  0.000000\n",
      "15  11.00  0.250000\n",
      "16  12.00  1.000000\n",
      "17  13.00  1.000000\n",
      "18  14.00  0.500000\n",
      "19  14.50  0.000000\n",
      "20  15.00  0.800000\n",
      "21  16.00  0.352941\n",
      "22  17.00  0.461538\n",
      "23  18.00  0.346154\n",
      "24  19.00  0.360000\n",
      "25  20.00  0.200000\n",
      "26  20.50  0.000000\n",
      "27  21.00  0.208333\n",
      "28  22.00  0.407407\n",
      "29  23.00  0.333333\n",
      "..    ...       ...\n",
      "58  44.00  0.333333\n",
      "59  45.00  0.416667\n",
      "60  45.50  0.000000\n",
      "61  46.00  0.000000\n",
      "62  47.00  0.111111\n",
      "63  48.00  0.666667\n",
      "64  49.00  0.666667\n",
      "65  50.00  0.500000\n",
      "66  51.00  0.285714\n",
      "67  52.00  0.500000\n",
      "68  53.00  1.000000\n",
      "69  54.00  0.375000\n",
      "70  55.00  0.500000\n",
      "71  55.50  0.000000\n",
      "72  56.00  0.500000\n",
      "73  57.00  0.000000\n",
      "74  58.00  0.600000\n",
      "75  59.00  0.000000\n",
      "76  60.00  0.500000\n",
      "77  61.00  0.000000\n",
      "78  62.00  0.500000\n",
      "79  63.00  1.000000\n",
      "80  64.00  0.000000\n",
      "81  65.00  0.000000\n",
      "82  66.00  0.000000\n",
      "83  70.00  0.000000\n",
      "84  70.50  0.000000\n",
      "85  71.00  0.000000\n",
      "86  74.00  0.000000\n",
      "87  80.00  1.000000\n",
      "\n",
      "[88 rows x 2 columns]\n"
     ]
    }
   ],
   "source": [
    "# Age \n",
    "print( df_train[[\"Age\",\"Survived\"]].groupby([\"Age\"], as_index = False).mean() )\n",
    "for data in df_all:\n",
    "    age_avg  = data['Age'].mean()\n",
    "    age_std  = data['Age'].std()\n",
    "    age_null = data['Age'].isnull().sum()\n",
    "\n",
    "    random_list = np.random.randint(age_avg - age_std, age_avg + age_std , size = age_null)\n",
    "    data['Age'][np.isnan(data['Age'])] = random_list\n",
    "    data['Age'] = data['Age'].astype(int)\n",
    "\n",
    "df_train['Age_Group'] = pd.cut(df_train['Age'], 6)\n"
   ]
  },
  {
   "cell_type": "code",
   "execution_count": 130,
   "metadata": {},
   "outputs": [
    {
     "name": "stdout",
     "output_type": "stream",
     "text": [
      "           AgeGroup  Survived\n",
      "0   (-0.08, 13.333]  0.591549\n",
      "1  (13.333, 26.667]  0.359281\n",
      "2    (26.667, 40.0]  0.372727\n",
      "3    (40.0, 53.333]  0.386792\n",
      "4  (53.333, 66.667]  0.348837\n",
      "5    (66.667, 80.0]  0.142857\n"
     ]
    }
   ],
   "source": [
    "print( df_train[[\"Age_Group\",\"Survived\"]].groupby([\"Age_Group\"], as_index = False).mean() )"
   ]
  },
  {
   "cell_type": "code",
   "execution_count": 131,
   "metadata": {},
   "outputs": [
    {
     "name": "stdout",
     "output_type": "stream",
     "text": [
      "   SibSp  Survived\n",
      "0      0  0.345395\n",
      "1      1  0.535885\n",
      "2      2  0.464286\n",
      "3      3  0.250000\n",
      "4      4  0.166667\n",
      "5      5  0.000000\n",
      "6      8  0.000000\n"
     ]
    }
   ],
   "source": [
    "# SibSp\n",
    "print( df_train[[\"SibSp\",\"Survived\"]].groupby([\"SibSp\"], as_index = False).mean() )"
   ]
  },
  {
   "cell_type": "code",
   "execution_count": 132,
   "metadata": {},
   "outputs": [
    {
     "name": "stdout",
     "output_type": "stream",
     "text": [
      "   Parch  Survived\n",
      "0      0  0.343658\n",
      "1      1  0.550847\n",
      "2      2  0.500000\n",
      "3      3  0.600000\n",
      "4      4  0.000000\n",
      "5      5  0.200000\n",
      "6      6  0.000000\n"
     ]
    }
   ],
   "source": [
    "# Parch\n",
    "print( df_train[[\"Parch\",\"Survived\"]].groupby([\"Parch\"], as_index = False).mean() )"
   ]
  },
  {
   "cell_type": "code",
   "execution_count": 152,
   "metadata": {},
   "outputs": [
    {
     "name": "stdout",
     "output_type": "stream",
     "text": [
      "   Fare  Survived\n",
      "0   0.0  0.199405\n",
      "1   1.0  0.495495\n",
      "   Fare  Survived\n",
      "0   0.0  0.383838\n"
     ]
    }
   ],
   "source": [
    "# Fare\n",
    "print( df_train[[\"Fare\",\"Survived\"]].groupby([\"Fare\"], as_index = False).mean() )\n",
    "for data in df_all:\n",
    "        data['Fare'] = data['Fare'].fillna(data['Fare'].median())\n",
    "#df_train['Fare_Group'] = pd.qcut(df_train['Fare'], 12)\n",
    "for data in df_all:\n",
    "    data.loc[data['Fare'] <= 10, 'Fare'] = 0\n",
    "    data.loc[data['Fare'] > 10, 'Fare'] = 1\n",
    "print( df_train[[\"Fare\",\"Survived\"]].groupby([\"Fare\"], as_index = False).mean() )"
   ]
  },
  {
   "cell_type": "code",
   "execution_count": 145,
   "metadata": {},
   "outputs": [
    {
     "name": "stdout",
     "output_type": "stream",
     "text": [
      "          Fare_Group  Survived\n",
      "0     (-0.001, 7.25]  0.132530\n",
      "1      (7.25, 7.775]  0.287671\n",
      "2      (7.775, 7.91]  0.179104\n",
      "3      (7.91, 8.662]  0.200000\n",
      "4      (8.662, 11.5]  0.307692\n",
      "5     (11.5, 14.454]  0.418919\n",
      "6   (14.454, 20.525]  0.453333\n",
      "7     (20.525, 26.0]  0.418919\n",
      "8       (26.0, 31.0]  0.493151\n",
      "9     (31.0, 52.369]  0.342466\n",
      "10    (52.369, 80.0]  0.626667\n",
      "11   (80.0, 512.329]  0.770270\n"
     ]
    }
   ],
   "source": [
    "print( df_train[[\"Fare_Group\",\"Survived\"]].groupby([\"Fare_Group\"], as_index = False).mean() )"
   ]
  },
  {
   "cell_type": "code",
   "execution_count": null,
   "metadata": {},
   "outputs": [],
   "source": []
  }
 ],
 "metadata": {
  "kernelspec": {
   "display_name": "Python 3",
   "language": "python",
   "name": "python3"
  },
  "language_info": {
   "codemirror_mode": {
    "name": "ipython",
    "version": 3
   },
   "file_extension": ".py",
   "mimetype": "text/x-python",
   "name": "python",
   "nbconvert_exporter": "python",
   "pygments_lexer": "ipython3",
   "version": "3.7.1"
  }
 },
 "nbformat": 4,
 "nbformat_minor": 2
}
