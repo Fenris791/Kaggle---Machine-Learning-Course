{
 "cells": [
  {
   "cell_type": "code",
   "execution_count": 350,
   "metadata": {},
   "outputs": [],
   "source": [
    "#Import Libraries\n",
    "import numpy as np\n",
    "import pandas as pd\n",
    "import matplotlib.pyplot as plt\n",
    "import seaborn as sns\n",
    "import re as re\n",
    "from sklearn.tree import DecisionTreeClassifier\n",
    "#To ignore warnings\n",
    "import warnings\n",
    "warnings.filterwarnings(\"ignore\")"
   ]
  },
  {
   "cell_type": "code",
   "execution_count": 351,
   "metadata": {},
   "outputs": [],
   "source": [
    "# Research Sources include:\n",
    "# https://www.kaggle.com/zikazika/understandable-titanic-challenge\n",
    "# https://towardsdatascience.com/your-first-kaggle-competition-submission-64da366e48cb\n",
    "# https://www.kaggle.com/anaskad/step-by-step-solving-titanic-problem"
   ]
  },
  {
   "cell_type": "code",
   "execution_count": 352,
   "metadata": {},
   "outputs": [],
   "source": [
    "#import data and assign to DataFrames\n",
    "df_train = pd.read_csv('train.csv')\n",
    "df_test = pd.read_csv('test.csv')\n",
    "df_all = [df_train, df_test]"
   ]
  },
  {
   "cell_type": "code",
   "execution_count": 353,
   "metadata": {},
   "outputs": [
    {
     "data": {
      "text/html": [
       "<div>\n",
       "<style scoped>\n",
       "    .dataframe tbody tr th:only-of-type {\n",
       "        vertical-align: middle;\n",
       "    }\n",
       "\n",
       "    .dataframe tbody tr th {\n",
       "        vertical-align: top;\n",
       "    }\n",
       "\n",
       "    .dataframe thead th {\n",
       "        text-align: right;\n",
       "    }\n",
       "</style>\n",
       "<table border=\"1\" class=\"dataframe\">\n",
       "  <thead>\n",
       "    <tr style=\"text-align: right;\">\n",
       "      <th></th>\n",
       "      <th>PassengerId</th>\n",
       "      <th>Survived</th>\n",
       "      <th>Pclass</th>\n",
       "      <th>Age</th>\n",
       "      <th>SibSp</th>\n",
       "      <th>Parch</th>\n",
       "      <th>Fare</th>\n",
       "    </tr>\n",
       "  </thead>\n",
       "  <tbody>\n",
       "    <tr>\n",
       "      <th>count</th>\n",
       "      <td>891.000000</td>\n",
       "      <td>891.000000</td>\n",
       "      <td>891.000000</td>\n",
       "      <td>714.000000</td>\n",
       "      <td>891.000000</td>\n",
       "      <td>891.000000</td>\n",
       "      <td>891.000000</td>\n",
       "    </tr>\n",
       "    <tr>\n",
       "      <th>mean</th>\n",
       "      <td>446.000000</td>\n",
       "      <td>0.383838</td>\n",
       "      <td>2.308642</td>\n",
       "      <td>29.699118</td>\n",
       "      <td>0.523008</td>\n",
       "      <td>0.381594</td>\n",
       "      <td>32.204208</td>\n",
       "    </tr>\n",
       "    <tr>\n",
       "      <th>std</th>\n",
       "      <td>257.353842</td>\n",
       "      <td>0.486592</td>\n",
       "      <td>0.836071</td>\n",
       "      <td>14.526497</td>\n",
       "      <td>1.102743</td>\n",
       "      <td>0.806057</td>\n",
       "      <td>49.693429</td>\n",
       "    </tr>\n",
       "    <tr>\n",
       "      <th>min</th>\n",
       "      <td>1.000000</td>\n",
       "      <td>0.000000</td>\n",
       "      <td>1.000000</td>\n",
       "      <td>0.420000</td>\n",
       "      <td>0.000000</td>\n",
       "      <td>0.000000</td>\n",
       "      <td>0.000000</td>\n",
       "    </tr>\n",
       "    <tr>\n",
       "      <th>25%</th>\n",
       "      <td>223.500000</td>\n",
       "      <td>0.000000</td>\n",
       "      <td>2.000000</td>\n",
       "      <td>20.125000</td>\n",
       "      <td>0.000000</td>\n",
       "      <td>0.000000</td>\n",
       "      <td>7.910400</td>\n",
       "    </tr>\n",
       "    <tr>\n",
       "      <th>50%</th>\n",
       "      <td>446.000000</td>\n",
       "      <td>0.000000</td>\n",
       "      <td>3.000000</td>\n",
       "      <td>28.000000</td>\n",
       "      <td>0.000000</td>\n",
       "      <td>0.000000</td>\n",
       "      <td>14.454200</td>\n",
       "    </tr>\n",
       "    <tr>\n",
       "      <th>75%</th>\n",
       "      <td>668.500000</td>\n",
       "      <td>1.000000</td>\n",
       "      <td>3.000000</td>\n",
       "      <td>38.000000</td>\n",
       "      <td>1.000000</td>\n",
       "      <td>0.000000</td>\n",
       "      <td>31.000000</td>\n",
       "    </tr>\n",
       "    <tr>\n",
       "      <th>max</th>\n",
       "      <td>891.000000</td>\n",
       "      <td>1.000000</td>\n",
       "      <td>3.000000</td>\n",
       "      <td>80.000000</td>\n",
       "      <td>8.000000</td>\n",
       "      <td>6.000000</td>\n",
       "      <td>512.329200</td>\n",
       "    </tr>\n",
       "  </tbody>\n",
       "</table>\n",
       "</div>"
      ],
      "text/plain": [
       "       PassengerId    Survived      Pclass         Age       SibSp  \\\n",
       "count   891.000000  891.000000  891.000000  714.000000  891.000000   \n",
       "mean    446.000000    0.383838    2.308642   29.699118    0.523008   \n",
       "std     257.353842    0.486592    0.836071   14.526497    1.102743   \n",
       "min       1.000000    0.000000    1.000000    0.420000    0.000000   \n",
       "25%     223.500000    0.000000    2.000000   20.125000    0.000000   \n",
       "50%     446.000000    0.000000    3.000000   28.000000    0.000000   \n",
       "75%     668.500000    1.000000    3.000000   38.000000    1.000000   \n",
       "max     891.000000    1.000000    3.000000   80.000000    8.000000   \n",
       "\n",
       "            Parch        Fare  \n",
       "count  891.000000  891.000000  \n",
       "mean     0.381594   32.204208  \n",
       "std      0.806057   49.693429  \n",
       "min      0.000000    0.000000  \n",
       "25%      0.000000    7.910400  \n",
       "50%      0.000000   14.454200  \n",
       "75%      0.000000   31.000000  \n",
       "max      6.000000  512.329200  "
      ]
     },
     "execution_count": 353,
     "metadata": {},
     "output_type": "execute_result"
    }
   ],
   "source": [
    "# Get an over view of the data\n",
    "#print(df_train.dtypes.reset_index()) # df_train Columns Data\n",
    "df_train.describe()\n"
   ]
  },
  {
   "cell_type": "code",
   "execution_count": 354,
   "metadata": {},
   "outputs": [
    {
     "name": "stdout",
     "output_type": "stream",
     "text": [
      "<class 'pandas.core.frame.DataFrame'>\n",
      "RangeIndex: 891 entries, 0 to 890\n",
      "Data columns (total 12 columns):\n",
      "PassengerId    891 non-null int64\n",
      "Survived       891 non-null int64\n",
      "Pclass         891 non-null int64\n",
      "Name           891 non-null object\n",
      "Sex            891 non-null object\n",
      "Age            714 non-null float64\n",
      "SibSp          891 non-null int64\n",
      "Parch          891 non-null int64\n",
      "Ticket         891 non-null object\n",
      "Fare           891 non-null float64\n",
      "Cabin          204 non-null object\n",
      "Embarked       889 non-null object\n",
      "dtypes: float64(2), int64(5), object(5)\n",
      "memory usage: 83.6+ KB\n"
     ]
    }
   ],
   "source": [
    "df_train.info()"
   ]
  },
  {
   "cell_type": "code",
   "execution_count": 355,
   "metadata": {},
   "outputs": [
    {
     "data": {
      "text/plain": [
       "PassengerId      0\n",
       "Survived         0\n",
       "Pclass           0\n",
       "Name             0\n",
       "Sex              0\n",
       "Age            177\n",
       "SibSp            0\n",
       "Parch            0\n",
       "Ticket           0\n",
       "Fare             0\n",
       "Cabin          687\n",
       "Embarked         2\n",
       "dtype: int64"
      ]
     },
     "execution_count": 355,
     "metadata": {},
     "output_type": "execute_result"
    }
   ],
   "source": [
    "df_train.isnull().sum(axis = 0)"
   ]
  },
  {
   "cell_type": "code",
   "execution_count": 356,
   "metadata": {},
   "outputs": [
    {
     "data": {
      "text/html": [
       "<div>\n",
       "<style scoped>\n",
       "    .dataframe tbody tr th:only-of-type {\n",
       "        vertical-align: middle;\n",
       "    }\n",
       "\n",
       "    .dataframe tbody tr th {\n",
       "        vertical-align: top;\n",
       "    }\n",
       "\n",
       "    .dataframe thead th {\n",
       "        text-align: right;\n",
       "    }\n",
       "</style>\n",
       "<table border=\"1\" class=\"dataframe\">\n",
       "  <thead>\n",
       "    <tr style=\"text-align: right;\">\n",
       "      <th></th>\n",
       "      <th>Total</th>\n",
       "      <th>Percent</th>\n",
       "    </tr>\n",
       "  </thead>\n",
       "  <tbody>\n",
       "    <tr>\n",
       "      <th>Cabin</th>\n",
       "      <td>687</td>\n",
       "      <td>77.104377</td>\n",
       "    </tr>\n",
       "    <tr>\n",
       "      <th>Age</th>\n",
       "      <td>177</td>\n",
       "      <td>19.865320</td>\n",
       "    </tr>\n",
       "    <tr>\n",
       "      <th>Embarked</th>\n",
       "      <td>2</td>\n",
       "      <td>0.224467</td>\n",
       "    </tr>\n",
       "  </tbody>\n",
       "</table>\n",
       "</div>"
      ],
      "text/plain": [
       "          Total    Percent\n",
       "Cabin       687  77.104377\n",
       "Age         177  19.865320\n",
       "Embarked      2   0.224467"
      ]
     },
     "execution_count": 356,
     "metadata": {},
     "output_type": "execute_result"
    },
    {
     "data": {
      "image/png": "[encoded data removed]",
      "text/plain": [
       "<Figure size 576x432 with 1 Axes>"
      ]
     },
     "metadata": {
      "needs_background": "light"
     },
     "output_type": "display_data"
    }
   ],
   "source": [
    "# Mising Data Function\n",
    "def missingdata(data):\n",
    "    total = data.isnull().sum().sort_values(ascending = False)\n",
    "    percent = (data.isnull().sum()/data.isnull().count()*100).sort_values(ascending = False)\n",
    "    ms=pd.concat([total, percent], axis=1, keys=['Total', 'Percent'])\n",
    "    ms= ms[ms[\"Percent\"] > 0]\n",
    "    f,ax =plt.subplots(figsize=(8,6))\n",
    "    plt.xticks(rotation='80')\n",
    "    fig=sns.barplot(ms.index, ms[\"Percent\"],color=\"red\",alpha=0.8)\n",
    "    plt.xlabel('Independent variables', fontsize=15)\n",
    "    plt.ylabel('Percent of missing values', fontsize=15)\n",
    "    plt.title('NaN exploration', fontsize=15)\n",
    "    return ms\n",
    "\n",
    "missingdata(df_train)"
   ]
  },
  {
   "cell_type": "code",
   "execution_count": 357,
   "metadata": {},
   "outputs": [
    {
     "name": "stdout",
     "output_type": "stream",
     "text": [
      "   Pclass  Survived\n",
      "0       1  0.629630\n",
      "1       2  0.472826\n",
      "2       3  0.242363\n"
     ]
    }
   ],
   "source": [
    "# Pclass \n",
    "print(df_train[[\"Pclass\",\"Survived\"]].groupby([\"Pclass\"], as_index = False).mean())"
   ]
  },
  {
   "cell_type": "code",
   "execution_count": 358,
   "metadata": {},
   "outputs": [
    {
     "name": "stdout",
     "output_type": "stream",
     "text": [
      "      Sex  Survived\n",
      "0  female  0.742038\n",
      "1    male  0.188908\n"
     ]
    }
   ],
   "source": [
    "# Sex\n",
    "print( df_train[[\"Sex\",\"Survived\"]].groupby([\"Sex\"], as_index = False).mean() )"
   ]
  },
  {
   "cell_type": "code",
   "execution_count": 359,
   "metadata": {
    "scrolled": true
   },
   "outputs": [
    {
     "name": "stdout",
     "output_type": "stream",
     "text": [
      "      Age  Survived\n",
      "0    0.42  1.000000\n",
      "1    0.67  1.000000\n",
      "2    0.75  1.000000\n",
      "3    0.83  1.000000\n",
      "4    0.92  1.000000\n",
      "5    1.00  0.714286\n",
      "6    2.00  0.300000\n",
      "7    3.00  0.833333\n",
      "8    4.00  0.700000\n",
      "9    5.00  1.000000\n",
      "10   6.00  0.666667\n",
      "11   7.00  0.333333\n",
      "12   8.00  0.500000\n",
      "13   9.00  0.250000\n",
      "14  10.00  0.000000\n",
      "15  11.00  0.250000\n",
      "16  12.00  1.000000\n",
      "17  13.00  1.000000\n",
      "18  14.00  0.500000\n",
      "19  14.50  0.000000\n",
      "20  15.00  0.800000\n",
      "21  16.00  0.352941\n",
      "22  17.00  0.461538\n",
      "23  18.00  0.346154\n",
      "24  19.00  0.360000\n",
      "25  20.00  0.200000\n",
      "26  20.50  0.000000\n",
      "27  21.00  0.208333\n",
      "28  22.00  0.407407\n",
      "29  23.00  0.333333\n",
      "..    ...       ...\n",
      "58  44.00  0.333333\n",
      "59  45.00  0.416667\n",
      "60  45.50  0.000000\n",
      "61  46.00  0.000000\n",
      "62  47.00  0.111111\n",
      "63  48.00  0.666667\n",
      "64  49.00  0.666667\n",
      "65  50.00  0.500000\n",
      "66  51.00  0.285714\n",
      "67  52.00  0.500000\n",
      "68  53.00  1.000000\n",
      "69  54.00  0.375000\n",
      "70  55.00  0.500000\n",
      "71  55.50  0.000000\n",
      "72  56.00  0.500000\n",
      "73  57.00  0.000000\n",
      "74  58.00  0.600000\n",
      "75  59.00  0.000000\n",
      "76  60.00  0.500000\n",
      "77  61.00  0.000000\n",
      "78  62.00  0.500000\n",
      "79  63.00  1.000000\n",
      "80  64.00  0.000000\n",
      "81  65.00  0.000000\n",
      "82  66.00  0.000000\n",
      "83  70.00  0.000000\n",
      "84  70.50  0.000000\n",
      "85  71.00  0.000000\n",
      "86  74.00  0.000000\n",
      "87  80.00  1.000000\n",
      "\n",
      "[88 rows x 2 columns]\n"
     ]
    }
   ],
   "source": [
    "# Age \n",
    "print( df_train[[\"Age\",\"Survived\"]].groupby([\"Age\"], as_index = False).mean() )\n",
    "for data in df_all:\n",
    "    age_avg  = data['Age'].mean()\n",
    "    age_std  = data['Age'].std()\n",
    "    age_null = data['Age'].isnull().sum()\n",
    "\n",
    "    random_list = np.random.randint(age_avg - age_std, age_avg + age_std , size = age_null)\n",
    "    data['Age'][np.isnan(data['Age'])] = random_list\n",
    "    data['Age'] = data['Age'].astype(int)\n",
    "\n",
    "#df_train['Age_Group'] = pd.cut(df_train['Age'], 6)\n"
   ]
  },
  {
   "cell_type": "code",
   "execution_count": 360,
   "metadata": {},
   "outputs": [],
   "source": [
    "for data in df_all:\n",
    "    data['Age_Group'] = data['Age']\n",
    "    data.loc[data['Age_Group'] <= 12, 'Age_Group'] = 0\n",
    "    data.loc[(data['Age_Group'] > 12) & (data['Age_Group'] <= 40), 'Age_Group'] = 1\n",
    "    data.loc[(data['Age_Group'] > 40) & (data['Age_Group'] <= 65), 'Age_Group'] = 2\n",
    "    data.loc[(data['Age_Group'] > 65), 'Age_Group'] = 3"
   ]
  },
  {
   "cell_type": "code",
   "execution_count": 361,
   "metadata": {},
   "outputs": [
    {
     "name": "stdout",
     "output_type": "stream",
     "text": [
      "   Age_Group  Survived\n",
      "0          0  0.579710\n",
      "1          1  0.373476\n",
      "2          2  0.354430\n",
      "3          3  0.125000\n"
     ]
    }
   ],
   "source": [
    "print( df_train[[\"Age_Group\",\"Survived\"]].groupby([\"Age_Group\"], as_index = False).mean() )"
   ]
  },
  {
   "cell_type": "code",
   "execution_count": 362,
   "metadata": {},
   "outputs": [
    {
     "name": "stdout",
     "output_type": "stream",
     "text": [
      "   SibSp  Survived\n",
      "0      0  0.345395\n",
      "1      1  0.535885\n",
      "2      2  0.464286\n",
      "3      3  0.250000\n",
      "4      4  0.166667\n",
      "5      5  0.000000\n",
      "6      8  0.000000\n"
     ]
    }
   ],
   "source": [
    "# SibSp\n",
    "print( df_train[[\"SibSp\",\"Survived\"]].groupby([\"SibSp\"], as_index = False).mean() )"
   ]
  },
  {
   "cell_type": "code",
   "execution_count": 363,
   "metadata": {
    "scrolled": true
   },
   "outputs": [
    {
     "name": "stdout",
     "output_type": "stream",
     "text": [
      "   Parch  Survived\n",
      "0      0  0.343658\n",
      "1      1  0.550847\n",
      "2      2  0.500000\n",
      "3      3  0.600000\n",
      "4      4  0.000000\n",
      "5      5  0.200000\n",
      "6      6  0.000000\n"
     ]
    }
   ],
   "source": [
    "# Parch\n",
    "print( df_train[[\"Parch\",\"Survived\"]].groupby([\"Parch\"], as_index = False).mean() )"
   ]
  },
  {
   "cell_type": "code",
   "execution_count": 364,
   "metadata": {},
   "outputs": [],
   "source": [
    "# Fare\n",
    "#print( df_train[[\"Fare\",\"Survived\"]].groupby([\"Fare\"], as_index = False).mean() )\n",
    "for data in df_all:\n",
    "        data['Fare'] = data['Fare'].fillna(data['Fare'].median())\n",
    "#df_train['Fare_Group'] = pd.qcut(df_train['Fare'], 12)\n",
    "for data in df_all:\n",
    "    data['Fare_Group'] = data['Fare']\n",
    "    data.loc[data['Fare_Group'] <= 10, 'Fare_Group'] = 0\n",
    "    data.loc[(data['Fare_Group'] > 10) & (data['Fare_Group'] <= 20), 'Fare_Group'] = 1\n",
    "    data.loc[(data['Fare_Group'] > 20) & (data['Fare_Group'] <= 30), 'Fare_Group'] = 2\n",
    "    data.loc[(data['Fare_Group'] > 30) & (data['Fare_Group'] <= 40), 'Fare_Group'] = 3\n",
    "    data.loc[(data['Fare_Group'] > 40) & (data['Fare_Group'] <= 50), 'Fare_Group'] = 4\n",
    "    data.loc[(data['Fare_Group'] > 50) & (data['Fare_Group'] <= 60), 'Fare_Group'] = 5\n",
    "    data.loc[(data['Fare_Group'] > 60) & (data['Fare_Group'] <= 70), 'Fare_Group'] = 6\n",
    "    data.loc[(data['Fare_Group'] > 70) & (data['Fare_Group'] <= 80), 'Fare_Group'] = 7\n",
    "    data.loc[(data['Fare_Group'] > 70) & (data['Fare_Group'] <= 90), 'Fare_Group'] = 8\n",
    "    data.loc[(data['Fare_Group'] > 70) & (data['Fare_Group'] <= 100), 'Fare_Group'] = 9\n",
    "    data.loc[(data['Fare_Group'] > 100), 'Fare_Group'] = 10\n",
    "\n"
   ]
  },
  {
   "cell_type": "code",
   "execution_count": 365,
   "metadata": {},
   "outputs": [
    {
     "name": "stdout",
     "output_type": "stream",
     "text": [
      "    Fare_Group  Survived\n",
      "0          0.0  0.199405\n",
      "1          1.0  0.424581\n",
      "2          2.0  0.443662\n",
      "3          3.0  0.396552\n",
      "4          4.0  0.250000\n",
      "5          5.0  0.710526\n",
      "6          6.0  0.352941\n",
      "7          7.0  0.612903\n",
      "8          8.0  0.823529\n",
      "9          9.0  1.000000\n",
      "10        10.0  0.735849\n"
     ]
    }
   ],
   "source": [
    "print( df_train[[\"Fare_Group\",\"Survived\"]].groupby([\"Fare_Group\"], as_index = False).mean() )"
   ]
  },
  {
   "cell_type": "code",
   "execution_count": 366,
   "metadata": {},
   "outputs": [
    {
     "name": "stdout",
     "output_type": "stream",
     "text": [
      "     Cabin  Survived\n",
      "0      A10  0.000000\n",
      "1      A14  0.000000\n",
      "2      A16  1.000000\n",
      "3      A19  0.000000\n",
      "4      A20  1.000000\n",
      "5      A23  1.000000\n",
      "6      A24  0.000000\n",
      "7      A26  1.000000\n",
      "8      A31  1.000000\n",
      "9      A32  0.000000\n",
      "10     A34  1.000000\n",
      "11     A36  0.000000\n",
      "12      A5  0.000000\n",
      "13      A6  1.000000\n",
      "14      A7  0.000000\n",
      "15    B101  1.000000\n",
      "16    B102  0.000000\n",
      "17     B18  1.000000\n",
      "18     B19  0.000000\n",
      "19     B20  1.000000\n",
      "20     B22  0.500000\n",
      "21     B28  1.000000\n",
      "22      B3  1.000000\n",
      "23     B30  0.000000\n",
      "24     B35  1.000000\n",
      "25     B37  0.000000\n",
      "26     B38  0.000000\n",
      "27     B39  1.000000\n",
      "28      B4  1.000000\n",
      "29     B41  1.000000\n",
      "..     ...       ...\n",
      "117    E12  1.000000\n",
      "118   E121  1.000000\n",
      "119    E17  1.000000\n",
      "120    E24  1.000000\n",
      "121    E25  1.000000\n",
      "122    E31  0.000000\n",
      "123    E33  1.000000\n",
      "124    E34  1.000000\n",
      "125    E36  1.000000\n",
      "126    E38  0.000000\n",
      "127    E40  1.000000\n",
      "128    E44  0.500000\n",
      "129    E46  0.000000\n",
      "130    E49  1.000000\n",
      "131    E50  1.000000\n",
      "132    E58  0.000000\n",
      "133    E63  0.000000\n",
      "134    E67  0.500000\n",
      "135    E68  1.000000\n",
      "136    E77  0.000000\n",
      "137     E8  1.000000\n",
      "138  F E69  1.000000\n",
      "139  F G63  0.000000\n",
      "140  F G73  0.000000\n",
      "141     F2  0.666667\n",
      "142    F33  1.000000\n",
      "143    F38  0.000000\n",
      "144     F4  1.000000\n",
      "145     G6  0.500000\n",
      "146      T  0.000000\n",
      "\n",
      "[147 rows x 2 columns]\n",
      "   Has_Cabin  Survived\n",
      "0          0  0.299854\n",
      "1          1  0.666667\n",
      "           Cabin  Has_Cabin\n",
      "0             No          0\n",
      "1            C85          1\n",
      "2             No          0\n",
      "3           C123          1\n",
      "4             No          0\n",
      "5             No          0\n",
      "6            E46          1\n",
      "7             No          0\n",
      "8             No          0\n",
      "9             No          0\n",
      "10            G6          1\n",
      "11          C103          1\n",
      "12            No          0\n",
      "13            No          0\n",
      "14            No          0\n",
      "15            No          0\n",
      "16            No          0\n",
      "17            No          0\n",
      "18            No          0\n",
      "19            No          0\n",
      "20            No          0\n",
      "21           D56          1\n",
      "22            No          0\n",
      "23            A6          1\n",
      "24            No          0\n",
      "25            No          0\n",
      "26            No          0\n",
      "27   C23 C25 C27          1\n",
      "28            No          0\n",
      "29            No          0\n",
      "..           ...        ...\n",
      "861           No          0\n",
      "862          D17          1\n",
      "863           No          0\n",
      "864           No          0\n",
      "865           No          0\n",
      "866           No          0\n",
      "867          A24          1\n",
      "868           No          0\n",
      "869           No          0\n",
      "870           No          0\n",
      "871          D35          1\n",
      "872  B51 B53 B55          1\n",
      "873           No          0\n",
      "874           No          0\n",
      "875           No          0\n",
      "876           No          0\n",
      "877           No          0\n",
      "878           No          0\n",
      "879          C50          1\n",
      "880           No          0\n",
      "881           No          0\n",
      "882           No          0\n",
      "883           No          0\n",
      "884           No          0\n",
      "885           No          0\n",
      "886           No          0\n",
      "887          B42          1\n",
      "888           No          0\n",
      "889         C148          1\n",
      "890           No          0\n",
      "\n",
      "[891 rows x 2 columns]\n"
     ]
    }
   ],
   "source": [
    "# Cabin\n",
    "print( df_train[[\"Cabin\",\"Survived\"]].groupby([\"Cabin\"], as_index = False).mean() )\n",
    "df_test['Cabin'].fillna(\"No\", inplace = True)\n",
    "df_train['Cabin'].fillna(\"No\", inplace = True)\n",
    "df_train['Has_Cabin']=np.where(df_train['Cabin']==\"No\",0,1)\n",
    "df_test['Has_Cabin']=np.where(df_test['Cabin']==\"No\",0,1)\n",
    "    \n",
    "print( df_train[[\"Has_Cabin\",\"Survived\"]].groupby([\"Has_Cabin\"], as_index = False).mean() )\n",
    "print( df_train[[\"Cabin\",\"Has_Cabin\"]])"
   ]
  },
  {
   "cell_type": "code",
   "execution_count": 367,
   "metadata": {},
   "outputs": [
    {
     "name": "stdout",
     "output_type": "stream",
     "text": [
      "  Embarked  Survived\n",
      "0        C  0.553571\n",
      "1        Q  0.389610\n",
      "2        S  0.339009\n"
     ]
    }
   ],
   "source": [
    "#Embarked\n",
    "df_train['Embarked'].fillna(df_train['Embarked'].mode()[0], inplace = True)\n",
    "print( df_train[[\"Embarked\",\"Survived\"]].groupby([\"Embarked\"], as_index = False).mean() )"
   ]
  },
  {
   "cell_type": "code",
   "execution_count": 368,
   "metadata": {},
   "outputs": [
    {
     "data": {
      "text/plain": [
       "PassengerId    0\n",
       "Survived       0\n",
       "Pclass         0\n",
       "Name           0\n",
       "Sex            0\n",
       "Age            0\n",
       "SibSp          0\n",
       "Parch          0\n",
       "Ticket         0\n",
       "Fare           0\n",
       "Cabin          0\n",
       "Embarked       0\n",
       "Age_Group      0\n",
       "Fare_Group     0\n",
       "Has_Cabin      0\n",
       "dtype: int64"
      ]
     },
     "execution_count": 368,
     "metadata": {},
     "output_type": "execute_result"
    }
   ],
   "source": [
    "df_train.isnull().sum(axis = 0)"
   ]
  },
  {
   "cell_type": "code",
   "execution_count": 369,
   "metadata": {},
   "outputs": [
    {
     "name": "stdout",
     "output_type": "stream",
     "text": [
      "   PassengerId  Survived  Pclass  \\\n",
      "0            1         0       3   \n",
      "1            2         1       1   \n",
      "2            3         1       3   \n",
      "3            4         1       1   \n",
      "4            5         0       3   \n",
      "\n",
      "                                                Name     Sex  Age  SibSp  \\\n",
      "0                            Braund, Mr. Owen Harris    male   22      1   \n",
      "1  Cumings, Mrs. John Bradley (Florence Briggs Th...  female   38      1   \n",
      "2                             Heikkinen, Miss. Laina  female   26      0   \n",
      "3       Futrelle, Mrs. Jacques Heath (Lily May Peel)  female   35      1   \n",
      "4                           Allen, Mr. William Henry    male   35      0   \n",
      "\n",
      "   Parch            Ticket     Fare Cabin Embarked  Age_Group  Fare_Group  \\\n",
      "0      0         A/5 21171   7.2500    No        S          1         0.0   \n",
      "1      0          PC 17599  71.2833   C85        C          1         7.0   \n",
      "2      0  STON/O2. 3101282   7.9250    No        S          1         0.0   \n",
      "3      0            113803  53.1000  C123        S          1         5.0   \n",
      "4      0            373450   8.0500    No        S          1         0.0   \n",
      "\n",
      "   Has_Cabin  \n",
      "0          0  \n",
      "1          1  \n",
      "2          0  \n",
      "3          1  \n",
      "4          0  \n"
     ]
    }
   ],
   "source": [
    "print(df_train.head())"
   ]
  },
  {
   "cell_type": "code",
   "execution_count": 370,
   "metadata": {},
   "outputs": [],
   "source": [
    "# Drop columns we are not using\n",
    "df_train.drop('PassengerId', axis=1, inplace = True)\n",
    "df_train.drop('Name', axis=1, inplace = True)\n",
    "df_train.drop('Ticket', axis=1, inplace = True)\n",
    "df_train.drop('Age', axis=1, inplace = True)\n",
    "df_train.drop('Fare', axis=1, inplace = True)\n",
    "df_train.drop('Cabin', axis=1, inplace = True)"
   ]
  },
  {
   "cell_type": "code",
   "execution_count": 371,
   "metadata": {},
   "outputs": [
    {
     "name": "stdout",
     "output_type": "stream",
     "text": [
      "   Survived  Pclass     Sex  SibSp  Parch Embarked  Age_Group  Fare_Group  \\\n",
      "0         0       3    male      1      0        S          1         0.0   \n",
      "1         1       1  female      1      0        C          1         7.0   \n",
      "2         1       3  female      0      0        S          1         0.0   \n",
      "3         1       1  female      1      0        S          1         5.0   \n",
      "4         0       3    male      0      0        S          1         0.0   \n",
      "\n",
      "   Has_Cabin  \n",
      "0          0  \n",
      "1          1  \n",
      "2          0  \n",
      "3          1  \n",
      "4          0  \n"
     ]
    }
   ],
   "source": [
    "print(df_train.head())"
   ]
  },
  {
   "cell_type": "code",
   "execution_count": 372,
   "metadata": {},
   "outputs": [],
   "source": [
    "# mapping text fields to numeric\n",
    "df_train['Sex_num']=np.where(df_train['Sex']==\"male\",0,1)\n",
    "df_train['Embarked_num']=np.where(df_train['Embarked']==\"S\",0,np.where(df_train['Embarked']==\"C\",1,2))\n"
   ]
  },
  {
   "cell_type": "code",
   "execution_count": 373,
   "metadata": {},
   "outputs": [
    {
     "name": "stdout",
     "output_type": "stream",
     "text": [
      "   Survived  Pclass     Sex  SibSp  Parch Embarked  Age_Group  Fare_Group  \\\n",
      "0         0       3    male      1      0        S          1         0.0   \n",
      "1         1       1  female      1      0        C          1         7.0   \n",
      "2         1       3  female      0      0        S          1         0.0   \n",
      "3         1       1  female      1      0        S          1         5.0   \n",
      "4         0       3    male      0      0        S          1         0.0   \n",
      "\n",
      "   Has_Cabin  Sex_num  Embarked_num  \n",
      "0          0        0             0  \n",
      "1          1        1             1  \n",
      "2          0        1             0  \n",
      "3          1        1             0  \n",
      "4          0        0             0  \n"
     ]
    }
   ],
   "source": [
    "print(df_train.head())"
   ]
  },
  {
   "cell_type": "code",
   "execution_count": 374,
   "metadata": {},
   "outputs": [],
   "source": [
    "df_train.drop('Sex', axis=1, inplace = True)\n",
    "df_train.drop('Embarked', axis=1, inplace = True)"
   ]
  },
  {
   "cell_type": "code",
   "execution_count": 375,
   "metadata": {},
   "outputs": [
    {
     "name": "stdout",
     "output_type": "stream",
     "text": [
      "   Survived  Pclass  SibSp  Parch  Age_Group  Fare_Group  Has_Cabin  Sex_num  \\\n",
      "0         0       3      1      0          1         0.0          0        0   \n",
      "1         1       1      1      0          1         7.0          1        1   \n",
      "2         1       3      0      0          1         0.0          0        1   \n",
      "3         1       1      1      0          1         5.0          1        1   \n",
      "4         0       3      0      0          1         0.0          0        0   \n",
      "\n",
      "   Embarked_num  \n",
      "0             0  \n",
      "1             1  \n",
      "2             0  \n",
      "3             0  \n",
      "4             0  \n"
     ]
    }
   ],
   "source": [
    "print(df_train.head())"
   ]
  },
  {
   "cell_type": "code",
   "execution_count": 376,
   "metadata": {},
   "outputs": [
    {
     "name": "stdout",
     "output_type": "stream",
     "text": [
      "   PassengerId  Pclass                                          Name     Sex  \\\n",
      "0          892       3                              Kelly, Mr. James    male   \n",
      "1          893       3              Wilkes, Mrs. James (Ellen Needs)  female   \n",
      "2          894       2                     Myles, Mr. Thomas Francis    male   \n",
      "3          895       3                              Wirz, Mr. Albert    male   \n",
      "4          896       3  Hirvonen, Mrs. Alexander (Helga E Lindqvist)  female   \n",
      "\n",
      "   Age  SibSp  Parch   Ticket     Fare Cabin Embarked  Age_Group  Fare_Group  \\\n",
      "0   34      0      0   330911   7.8292    No        Q          1         0.0   \n",
      "1   47      1      0   363272   7.0000    No        S          2         0.0   \n",
      "2   62      0      0   240276   9.6875    No        Q          2         0.0   \n",
      "3   27      0      0   315154   8.6625    No        S          1         0.0   \n",
      "4   22      1      1  3101298  12.2875    No        S          1         1.0   \n",
      "\n",
      "   Has_Cabin  \n",
      "0          0  \n",
      "1          0  \n",
      "2          0  \n",
      "3          0  \n",
      "4          0  \n"
     ]
    }
   ],
   "source": [
    "print(df_test.head())\n",
    "df_test['Sex_num']=np.where(df_test['Sex']==\"male\",0,1)\n",
    "df_test['Embarked_num']=np.where(df_test['Embarked']==\"S\",0,np.where(df_test['Embarked']==\"C\",1,2))\n",
    "drop_elements = ['PassengerId', 'Name','Ticket','Age','Fare','Cabin','Sex','Embarked']\n",
    "\n",
    "df_test.drop('Name', axis=1, inplace = True)\n",
    "df_test.drop('Ticket', axis=1, inplace = True)\n",
    "df_test.drop('Age', axis=1, inplace = True)\n",
    "df_test.drop('Fare', axis=1, inplace = True)\n",
    "df_test.drop('Cabin', axis=1, inplace = True)\n",
    "df_test.drop('Sex', axis=1, inplace = True)\n",
    "df_test.drop('Embarked', axis=1, inplace = True)\n"
   ]
  },
  {
   "cell_type": "code",
   "execution_count": 377,
   "metadata": {},
   "outputs": [],
   "source": [
    "#df_train['Family_Size'] = df_train['SibSp']+df_train['Parch']\n",
    "#df_train.drop(['SibSp','Parch'], axis=1, inplace = True)\n",
    "#df_test['Family_Size'] = df_test['SibSp']+df_test['Parch']\n",
    "#df_test.drop(['SibSp','Parch'], axis=1, inplace = True)"
   ]
  },
  {
   "cell_type": "code",
   "execution_count": 378,
   "metadata": {},
   "outputs": [],
   "source": [
    "#X_train = df_train.drop(\"Survived\", axis=1)\n",
    "#Y_train = df_train[\"Survived\"]\n",
    "#X_test  = df_test"
   ]
  },
  {
   "cell_type": "code",
   "execution_count": 379,
   "metadata": {},
   "outputs": [
    {
     "ename": "ValueError",
     "evalue": "Number of features of the model must match the input. Model n_features is 8 and input n_features is 9 ",
     "output_type": "error",
     "traceback": [
      "\u001b[1;31m---------------------------------------------------------------------------\u001b[0m",
      "\u001b[1;31mValueError\u001b[0m                                Traceback (most recent call last)",
      "\u001b[1;32m<ipython-input-379-adbb23699dea>\u001b[0m in \u001b[0;36m<module>\u001b[1;34m\u001b[0m\n\u001b[0;32m      1\u001b[0m \u001b[0mdecision_tree\u001b[0m \u001b[1;33m=\u001b[0m \u001b[0mDecisionTreeClassifier\u001b[0m\u001b[1;33m(\u001b[0m\u001b[1;33m)\u001b[0m\u001b[1;33m\u001b[0m\u001b[1;33m\u001b[0m\u001b[0m\n\u001b[0;32m      2\u001b[0m \u001b[0mdecision_tree\u001b[0m\u001b[1;33m.\u001b[0m\u001b[0mfit\u001b[0m\u001b[1;33m(\u001b[0m\u001b[0mX_train\u001b[0m\u001b[1;33m,\u001b[0m \u001b[0mY_train\u001b[0m\u001b[1;33m)\u001b[0m\u001b[1;33m\u001b[0m\u001b[1;33m\u001b[0m\u001b[0m\n\u001b[1;32m----> 3\u001b[1;33m \u001b[0mY_pred\u001b[0m \u001b[1;33m=\u001b[0m \u001b[0mdecision_tree\u001b[0m\u001b[1;33m.\u001b[0m\u001b[0mpredict\u001b[0m\u001b[1;33m(\u001b[0m\u001b[0mX_test\u001b[0m\u001b[1;33m)\u001b[0m\u001b[1;33m\u001b[0m\u001b[1;33m\u001b[0m\u001b[0m\n\u001b[0m\u001b[0;32m      4\u001b[0m \u001b[0maccuracy\u001b[0m \u001b[1;33m=\u001b[0m \u001b[0mround\u001b[0m\u001b[1;33m(\u001b[0m\u001b[0mdecision_tree\u001b[0m\u001b[1;33m.\u001b[0m\u001b[0mscore\u001b[0m\u001b[1;33m(\u001b[0m\u001b[0mX_train\u001b[0m\u001b[1;33m,\u001b[0m \u001b[0mY_train\u001b[0m\u001b[1;33m)\u001b[0m \u001b[1;33m*\u001b[0m \u001b[1;36m100\u001b[0m\u001b[1;33m,\u001b[0m \u001b[1;36m2\u001b[0m\u001b[1;33m)\u001b[0m\u001b[1;33m\u001b[0m\u001b[1;33m\u001b[0m\u001b[0m\n\u001b[0;32m      5\u001b[0m \u001b[0mprint\u001b[0m\u001b[1;33m(\u001b[0m\u001b[1;34m\"Model Accuracy: \"\u001b[0m\u001b[1;33m,\u001b[0m\u001b[0maccuracy\u001b[0m\u001b[1;33m)\u001b[0m\u001b[1;33m\u001b[0m\u001b[1;33m\u001b[0m\u001b[0m\n",
      "\u001b[1;32m~\\AppData\\Local\\Continuum\\anaconda3\\lib\\site-packages\\sklearn\\tree\\tree.py\u001b[0m in \u001b[0;36mpredict\u001b[1;34m(self, X, check_input)\u001b[0m\n\u001b[0;32m    414\u001b[0m         \"\"\"\n\u001b[0;32m    415\u001b[0m         \u001b[0mcheck_is_fitted\u001b[0m\u001b[1;33m(\u001b[0m\u001b[0mself\u001b[0m\u001b[1;33m,\u001b[0m \u001b[1;34m'tree_'\u001b[0m\u001b[1;33m)\u001b[0m\u001b[1;33m\u001b[0m\u001b[1;33m\u001b[0m\u001b[0m\n\u001b[1;32m--> 416\u001b[1;33m         \u001b[0mX\u001b[0m \u001b[1;33m=\u001b[0m \u001b[0mself\u001b[0m\u001b[1;33m.\u001b[0m\u001b[0m_validate_X_predict\u001b[0m\u001b[1;33m(\u001b[0m\u001b[0mX\u001b[0m\u001b[1;33m,\u001b[0m \u001b[0mcheck_input\u001b[0m\u001b[1;33m)\u001b[0m\u001b[1;33m\u001b[0m\u001b[1;33m\u001b[0m\u001b[0m\n\u001b[0m\u001b[0;32m    417\u001b[0m         \u001b[0mproba\u001b[0m \u001b[1;33m=\u001b[0m \u001b[0mself\u001b[0m\u001b[1;33m.\u001b[0m\u001b[0mtree_\u001b[0m\u001b[1;33m.\u001b[0m\u001b[0mpredict\u001b[0m\u001b[1;33m(\u001b[0m\u001b[0mX\u001b[0m\u001b[1;33m)\u001b[0m\u001b[1;33m\u001b[0m\u001b[1;33m\u001b[0m\u001b[0m\n\u001b[0;32m    418\u001b[0m         \u001b[0mn_samples\u001b[0m \u001b[1;33m=\u001b[0m \u001b[0mX\u001b[0m\u001b[1;33m.\u001b[0m\u001b[0mshape\u001b[0m\u001b[1;33m[\u001b[0m\u001b[1;36m0\u001b[0m\u001b[1;33m]\u001b[0m\u001b[1;33m\u001b[0m\u001b[1;33m\u001b[0m\u001b[0m\n",
      "\u001b[1;32m~\\AppData\\Local\\Continuum\\anaconda3\\lib\\site-packages\\sklearn\\tree\\tree.py\u001b[0m in \u001b[0;36m_validate_X_predict\u001b[1;34m(self, X, check_input)\u001b[0m\n\u001b[0;32m    386\u001b[0m                              \u001b[1;34m\"match the input. Model n_features is %s and \"\u001b[0m\u001b[1;33m\u001b[0m\u001b[1;33m\u001b[0m\u001b[0m\n\u001b[0;32m    387\u001b[0m                              \u001b[1;34m\"input n_features is %s \"\u001b[0m\u001b[1;33m\u001b[0m\u001b[1;33m\u001b[0m\u001b[0m\n\u001b[1;32m--> 388\u001b[1;33m                              % (self.n_features_, n_features))\n\u001b[0m\u001b[0;32m    389\u001b[0m \u001b[1;33m\u001b[0m\u001b[0m\n\u001b[0;32m    390\u001b[0m         \u001b[1;32mreturn\u001b[0m \u001b[0mX\u001b[0m\u001b[1;33m\u001b[0m\u001b[1;33m\u001b[0m\u001b[0m\n",
      "\u001b[1;31mValueError\u001b[0m: Number of features of the model must match the input. Model n_features is 8 and input n_features is 9 "
     ]
    }
   ],
   "source": [
    "#decision_tree = DecisionTreeClassifier()\n",
    "#decision_tree.fit(X_train, Y_train)\n",
    "#Y_pred = decision_tree.predict(X_test)\n",
    "#accuracy = round(decision_tree.score(X_train, Y_train) * 100, 2)\n",
    "#print(\"Model Accuracy: \",accuracy)"
   ]
  },
  {
   "cell_type": "code",
   "execution_count": 381,
   "metadata": {},
   "outputs": [],
   "source": [
    "from sklearn.model_selection import train_test_split #split the dat in test and train sets\n",
    "from sklearn.model_selection import cross_val_score #score evaluation with cross validation\n",
    "from sklearn.model_selection import cross_val_predict #prediction with cross validation\n",
    "from sklearn.metrics import confusion_matrix #for confusion matrix (metric of succes)\n",
    "from sklearn.model_selection import KFold #for K-fold cross validation\n",
    "kfold = KFold(n_splits=10, random_state=22) # k=10, split the data into 10 equal parts\n",
    "\n",
    "\n",
    "all_features = df_train.drop(\"Survived\",axis=1) #all of the independent variables are necessary for the cross_val function\n",
    "Targeted_feature = df_train[\"Survived\"]\n",
    "\n",
    "X_train,X_test,y_train,y_test = train_test_split(all_features,Targeted_feature,test_size=0.3,random_state=42)#why do we have to do it cant we just use test_df ? NO, since we do not have the predictions (that si checked internally in Kaggle) we can not have accuracy on hold-out test)"
   ]
  },
  {
   "cell_type": "code",
   "execution_count": 387,
   "metadata": {},
   "outputs": [
    {
     "name": "stdout",
     "output_type": "stream",
     "text": [
      "Fitting 5 folds for each of 9 candidates, totalling 45 fits\n"
     ]
    },
    {
     "name": "stderr",
     "output_type": "stream",
     "text": [
      "[Parallel(n_jobs=4)]: Using backend LokyBackend with 4 concurrent workers.\n",
      "[Parallel(n_jobs=4)]: Done  45 out of  45 | elapsed:   21.0s finished\n"
     ]
    },
    {
     "data": {
      "text/plain": [
       "RandomForestClassifier(bootstrap=True, class_weight=None, criterion='gini',\n",
       "            max_depth=None, max_features='auto', max_leaf_nodes=None,\n",
       "            min_impurity_decrease=0.0, min_impurity_split=None,\n",
       "            min_samples_leaf=1, min_samples_split=2,\n",
       "            min_weight_fraction_leaf=0.0, n_estimators=800, n_jobs=None,\n",
       "            oob_score=False, random_state=None, verbose=0,\n",
       "            warm_start=False)"
      ]
     },
     "execution_count": 387,
     "metadata": {},
     "output_type": "execute_result"
    }
   ],
   "source": [
    "from sklearn.model_selection import GridSearchCV\n",
    "from sklearn.ensemble import RandomForestClassifier\n",
    "model = RandomForestClassifier()\n",
    "n_estim=range(100,1000,100)\n",
    "\n",
    "#This is the grid\n",
    "param_grid = {\"n_estimators\" :n_estim}\n",
    "\n",
    "\n",
    "model_rf = GridSearchCV(model,param_grid = param_grid, cv=5, scoring=\"accuracy\", n_jobs= 4, verbose = 1)\n",
    "\n",
    "model_rf.fit(train_X,train_Y)\n",
    "\n",
    "\n",
    "#best estimator\n",
    "model_rf.best_estimator_"
   ]
  },
  {
   "cell_type": "code",
   "execution_count": 388,
   "metadata": {},
   "outputs": [
    {
     "data": {
      "text/plain": [
       "0.8125701459034792"
      ]
     },
     "execution_count": 388,
     "metadata": {},
     "output_type": "execute_result"
    }
   ],
   "source": [
    "model_rf.best_score_"
   ]
  },
  {
   "cell_type": "code",
   "execution_count": 389,
   "metadata": {},
   "outputs": [
    {
     "name": "stdout",
     "output_type": "stream",
     "text": [
      "Fitting 5 folds for each of 4 candidates, totalling 20 fits\n"
     ]
    },
    {
     "name": "stderr",
     "output_type": "stream",
     "text": [
      "[Parallel(n_jobs=4)]: Using backend LokyBackend with 4 concurrent workers.\n",
      "[Parallel(n_jobs=4)]: Done  20 out of  20 | elapsed:    0.1s finished\n"
     ]
    },
    {
     "data": {
      "text/plain": [
       "LinearDiscriminantAnalysis(n_components=None, priors=None, shrinkage=None,\n",
       "              solver='svd', store_covariance=False, tol=0.001)"
      ]
     },
     "execution_count": 389,
     "metadata": {},
     "output_type": "execute_result"
    }
   ],
   "source": [
    "from sklearn.discriminant_analysis import LinearDiscriminantAnalysis\n",
    "model =LinearDiscriminantAnalysis()\n",
    "param_grid = {'tol':[0.001,0.01,.1,.2]}\n",
    "\n",
    "modell = GridSearchCV(model,param_grid = param_grid, cv=5, scoring=\"accuracy\", n_jobs= 4, verbose = 1)\n",
    "\n",
    "modell.fit(train_X,train_Y)\n",
    "\n",
    "# Best Estimator\n",
    "modell.best_estimator_"
   ]
  },
  {
   "cell_type": "code",
   "execution_count": 390,
   "metadata": {},
   "outputs": [
    {
     "data": {
      "text/plain": [
       "0.7991021324354658"
      ]
     },
     "execution_count": 390,
     "metadata": {},
     "output_type": "execute_result"
    }
   ],
   "source": [
    "modell.best_score_ "
   ]
  },
  {
   "cell_type": "code",
   "execution_count": 391,
   "metadata": {},
   "outputs": [
    {
     "name": "stdout",
     "output_type": "stream",
     "text": [
      "Accuracy 81.34\n",
      "The cross validated score 80.02\n"
     ]
    },
    {
     "data": {
      "text/plain": [
       "Text(0.5, 1.05, 'Confusion matrix')"
      ]
     },
     "execution_count": 391,
     "metadata": {},
     "output_type": "execute_result"
    },
    {
     "data": {
      "image/png": "[encoded data removed]",
      "text/plain": [
       "<Figure size 432x288 with 2 Axes>"
      ]
     },
     "metadata": {
      "needs_background": "light"
     },
     "output_type": "display_data"
    }
   ],
   "source": [
    "from sklearn.linear_model import LogisticRegression # Logistic Regression\n",
    "from sklearn.metrics import accuracy_score  #for accuracy_score\n",
    "\n",
    "\n",
    "model = LogisticRegression()\n",
    "model.fit(X_train,y_train)\n",
    "prediction_lr=model.predict(X_test)\n",
    "\n",
    "\n",
    "print('Accuracy',round(accuracy_score(prediction_lr,y_test)*100,2))\n",
    "result_lr=cross_val_score(model,all_features,Targeted_feature,cv=10,scoring='accuracy')\n",
    "print('The cross validated score',round(result_lr.mean()*100,2))\n",
    "y_pred = cross_val_predict(model,all_features,Targeted_feature,cv=10)\n",
    "sns.heatmap(confusion_matrix(Targeted_feature,y_pred),annot=True,fmt='3.0f',cmap=\"cool\")\n",
    "plt.title('Confusion matrix', y=1.05, size=15)"
   ]
  },
  {
   "cell_type": "code",
   "execution_count": 392,
   "metadata": {},
   "outputs": [
    {
     "name": "stdout",
     "output_type": "stream",
     "text": [
      "Accuracy 80.6\n",
      "The cross validated score 81.37\n"
     ]
    },
    {
     "data": {
      "text/plain": [
       "Text(0.5, 1.05, 'Confusion matrix')"
      ]
     },
     "execution_count": 392,
     "metadata": {},
     "output_type": "execute_result"
    },
    {
     "data": {
      "image/png": "[encoded data removed]",
      "text/plain": [
       "<Figure size 432x288 with 2 Axes>"
      ]
     },
     "metadata": {
      "needs_background": "light"
     },
     "output_type": "display_data"
    }
   ],
   "source": [
    "from sklearn.svm import SVC, LinearSVC\n",
    "\n",
    "model = SVC()\n",
    "model.fit(X_train,y_train)\n",
    "prediction_svm=model.predict(X_test)\n",
    "\n",
    "\n",
    "print('Accuracy',round(accuracy_score(prediction_svm,y_test)*100,2))\n",
    "result_svm=cross_val_score(model,all_features,Targeted_feature,cv=10,scoring='accuracy')\n",
    "print('The cross validated score',round(result_svm.mean()*100,2))\n",
    "y_pred = cross_val_predict(model,all_features,Targeted_feature,cv=10)\n",
    "sns.heatmap(confusion_matrix(Targeted_feature,y_pred),annot=True,fmt='3.0f',cmap=\"cool\")\n",
    "plt.title('Confusion matrix', y=1.05, size=15)"
   ]
  },
  {
   "cell_type": "code",
   "execution_count": 393,
   "metadata": {},
   "outputs": [
    {
     "name": "stdout",
     "output_type": "stream",
     "text": [
      "Accuracy 77.61\n",
      "The cross validated score 80.6\n"
     ]
    },
    {
     "data": {
      "text/plain": [
       "Text(0.5, 1.05, 'Confusion matrix')"
      ]
     },
     "execution_count": 393,
     "metadata": {},
     "output_type": "execute_result"
    },
    {
     "data": {
      "image/png": "[encoded data removed]",
      "text/plain": [
       "<Figure size 432x288 with 2 Axes>"
      ]
     },
     "metadata": {
      "needs_background": "light"
     },
     "output_type": "display_data"
    }
   ],
   "source": [
    "from sklearn.neighbors import KNeighborsClassifier\n",
    "\n",
    "\n",
    "model = KNeighborsClassifier(n_neighbors = 5)\n",
    "model.fit(X_train,y_train)\n",
    "prediction_knn=model.predict(X_test)\n",
    "\n",
    "\n",
    "print('Accuracy',round(accuracy_score(prediction_knn,y_test)*100,2))\n",
    "result_knn=cross_val_score(model,all_features,Targeted_feature,cv=10,scoring='accuracy')\n",
    "print('The cross validated score',round(result_knn.mean()*100,2))\n",
    "y_pred = cross_val_predict(model,all_features,Targeted_feature,cv=10)\n",
    "sns.heatmap(confusion_matrix(Targeted_feature,y_pred),annot=True,fmt='3.0f',cmap=\"cool\")\n",
    "plt.title('Confusion matrix', y=1.05, size=15)"
   ]
  },
  {
   "cell_type": "code",
   "execution_count": 394,
   "metadata": {},
   "outputs": [
    {
     "name": "stdout",
     "output_type": "stream",
     "text": [
      "Accuracy 79.85\n",
      "The cross validated score 77.67\n"
     ]
    },
    {
     "data": {
      "text/plain": [
       "Text(0.5, 1.05, 'Confusion matrix')"
      ]
     },
     "execution_count": 394,
     "metadata": {},
     "output_type": "execute_result"
    },
    {
     "data": {
      "image/png": "[encoded data removed]",
      "text/plain": [
       "<Figure size 432x288 with 2 Axes>"
      ]
     },
     "metadata": {
      "needs_background": "light"
     },
     "output_type": "display_data"
    }
   ],
   "source": [
    "from sklearn.naive_bayes import GaussianNB\n",
    "model= GaussianNB()\n",
    "model.fit(X_train,y_train)\n",
    "prediction_gnb=model.predict(X_test)\n",
    "\n",
    "\n",
    "print('Accuracy',round(accuracy_score(prediction_gnb,y_test)*100,2))\n",
    "result_gnb=cross_val_score(model,all_features,Targeted_feature,cv=10,scoring='accuracy')\n",
    "print('The cross validated score',round(result_gnb.mean()*100,2))\n",
    "y_pred = cross_val_predict(model,all_features,Targeted_feature,cv=10)\n",
    "sns.heatmap(confusion_matrix(Targeted_feature,y_pred),annot=True,fmt='3.0f',cmap=\"cool\")\n",
    "plt.title('Confusion matrix', y=1.05, size=15)"
   ]
  },
  {
   "cell_type": "code",
   "execution_count": 395,
   "metadata": {},
   "outputs": [
    {
     "name": "stdout",
     "output_type": "stream",
     "text": [
      "Accuracy 76.49\n",
      "The cross validated score 79.47\n"
     ]
    },
    {
     "data": {
      "text/plain": [
       "Text(0.5, 1.05, 'Confusion matrix')"
      ]
     },
     "execution_count": 395,
     "metadata": {},
     "output_type": "execute_result"
    },
    {
     "data": {
      "image/png": "[encoded data removed]",
      "text/plain": [
       "<Figure size 432x288 with 2 Axes>"
      ]
     },
     "metadata": {
      "needs_background": "light"
     },
     "output_type": "display_data"
    }
   ],
   "source": [
    "from sklearn.tree import DecisionTreeClassifier\n",
    "model= DecisionTreeClassifier(criterion='gini', \n",
    "                             min_samples_split=10,min_samples_leaf=1,\n",
    "                             max_features='auto')\n",
    "model.fit(X_train,y_train)\n",
    "prediction_tree=model.predict(X_test)\n",
    "\n",
    "\n",
    "print('Accuracy',round(accuracy_score(prediction_tree,y_test)*100,2))\n",
    "result_tree=cross_val_score(model,all_features,Targeted_feature,cv=10,scoring='accuracy')\n",
    "print('The cross validated score',round(result_tree.mean()*100,2))\n",
    "y_pred = cross_val_predict(model,all_features,Targeted_feature,cv=10)\n",
    "sns.heatmap(confusion_matrix(Targeted_feature,y_pred),annot=True,fmt='3.0f',cmap=\"cool\")\n",
    "plt.title('Confusion matrix', y=1.05, size=15)"
   ]
  },
  {
   "cell_type": "code",
   "execution_count": 396,
   "metadata": {},
   "outputs": [
    {
     "name": "stdout",
     "output_type": "stream",
     "text": [
      "Accuracy 79.1\n",
      "The cross validated score 80.6\n"
     ]
    },
    {
     "data": {
      "text/plain": [
       "Text(0.5, 1.05, 'Confusion matrix')"
      ]
     },
     "execution_count": 396,
     "metadata": {},
     "output_type": "execute_result"
    },
    {
     "data": {
      "image/png": "[encoded data removed]",
      "text/plain": [
       "<Figure size 432x288 with 2 Axes>"
      ]
     },
     "metadata": {
      "needs_background": "light"
     },
     "output_type": "display_data"
    }
   ],
   "source": [
    "from sklearn.ensemble import AdaBoostClassifier\n",
    "model= AdaBoostClassifier()\n",
    "model.fit(X_train,y_train)\n",
    "prediction_adb=model.predict(X_test)\n",
    "\n",
    "\n",
    "print('Accuracy',round(accuracy_score(prediction_adb,y_test)*100,2))\n",
    "result_adb=cross_val_score(model,all_features,Targeted_feature,cv=10,scoring='accuracy')\n",
    "print('The cross validated score',round(result_adb.mean()*100,2))\n",
    "y_pred = cross_val_predict(model,all_features,Targeted_feature,cv=10)\n",
    "sns.heatmap(confusion_matrix(Targeted_feature,y_pred),annot=True,fmt='3.0f',cmap=\"cool\")\n",
    "plt.title('Confusion matrix', y=1.05, size=15)"
   ]
  },
  {
   "cell_type": "code",
   "execution_count": 397,
   "metadata": {},
   "outputs": [
    {
     "name": "stdout",
     "output_type": "stream",
     "text": [
      "Accuracy 80.6\n",
      "The cross validated score 79.8\n"
     ]
    },
    {
     "data": {
      "text/plain": [
       "Text(0.5, 1.05, 'Confusion matrix')"
      ]
     },
     "execution_count": 397,
     "metadata": {},
     "output_type": "execute_result"
    },
    {
     "data": {
      "image/png": "[encoded data removed]",
      "text/plain": [
       "<Figure size 432x288 with 2 Axes>"
      ]
     },
     "metadata": {
      "needs_background": "light"
     },
     "output_type": "display_data"
    }
   ],
   "source": [
    "from sklearn.discriminant_analysis import LinearDiscriminantAnalysis\n",
    "model= LinearDiscriminantAnalysis()\n",
    "model.fit(X_train,y_train)\n",
    "prediction_lda=model.predict(X_test)\n",
    "\n",
    "\n",
    "print('Accuracy',round(accuracy_score(prediction_lda,y_test)*100,2))\n",
    "result_lda=cross_val_score(model,all_features,Targeted_feature,cv=10,scoring='accuracy')\n",
    "print('The cross validated score',round(result_lda.mean()*100,2))\n",
    "y_pred = cross_val_predict(model,all_features,Targeted_feature,cv=10)\n",
    "sns.heatmap(confusion_matrix(Targeted_feature,y_pred),annot=True,fmt='3.0f',cmap=\"cool\")\n",
    "plt.title('Confusion matrix', y=1.05, size=15)"
   ]
  },
  {
   "cell_type": "code",
   "execution_count": 398,
   "metadata": {},
   "outputs": [
    {
     "name": "stdout",
     "output_type": "stream",
     "text": [
      "Accuracy 79.1\n",
      "The cross validated score 81.71\n"
     ]
    },
    {
     "data": {
      "text/plain": [
       "Text(0.5, 1.05, 'Confusion matrix')"
      ]
     },
     "execution_count": 398,
     "metadata": {},
     "output_type": "execute_result"
    },
    {
     "data": {
      "image/png": "[encoded data removed]",
      "text/plain": [
       "<Figure size 432x288 with 2 Axes>"
      ]
     },
     "metadata": {
      "needs_background": "light"
     },
     "output_type": "display_data"
    }
   ],
   "source": [
    "from sklearn.ensemble import GradientBoostingClassifier\n",
    "model= GradientBoostingClassifier()\n",
    "model.fit(X_train,y_train)\n",
    "prediction_gbc=model.predict(X_test)\n",
    "\n",
    "\n",
    "print('Accuracy',round(accuracy_score(prediction_gbc,y_test)*100,2))\n",
    "result_gbc=cross_val_score(model,all_features,Targeted_feature,cv=10,scoring='accuracy')\n",
    "print('The cross validated score',round(result_gbc.mean()*100,2))\n",
    "y_pred = cross_val_predict(model,all_features,Targeted_feature,cv=10)\n",
    "sns.heatmap(confusion_matrix(Targeted_feature,y_pred),annot=True,fmt='3.0f',cmap=\"cool\")\n",
    "plt.title('Confusion matrix', y=1.05, size=15)"
   ]
  },
  {
   "cell_type": "code",
   "execution_count": 399,
   "metadata": {},
   "outputs": [
    {
     "name": "stdout",
     "output_type": "stream",
     "text": [
      "Accuracy 79.1\n",
      "The cross validated score 81.38\n"
     ]
    },
    {
     "data": {
      "text/plain": [
       "Text(0.5, 1.05, 'Confusion matrix')"
      ]
     },
     "execution_count": 399,
     "metadata": {},
     "output_type": "execute_result"
    },
    {
     "data": {
      "image/png": "[encoded data removed]",
      "text/plain": [
       "<Figure size 432x288 with 2 Axes>"
      ]
     },
     "metadata": {
      "needs_background": "light"
     },
     "output_type": "display_data"
    }
   ],
   "source": [
    "# Random Forests\n",
    "from sklearn.ensemble import RandomForestClassifier\n",
    "model_rf = RandomForestClassifier(criterion='gini', n_estimators=700,\n",
    "                             min_samples_split=10,min_samples_leaf=1,\n",
    "                             max_features='auto',oob_score=True,\n",
    "                             random_state=1,n_jobs=-1)\n",
    "model_rf.fit(X_train,y_train)\n",
    "prediction_rm=model.predict(X_test)\n",
    "\n",
    "\n",
    "print('Accuracy',round(accuracy_score(prediction_rm,y_test)*100,2))\n",
    "result_rm=cross_val_score(model_rf,all_features,Targeted_feature,cv=10,scoring='accuracy')\n",
    "print('The cross validated score',round(result_rm.mean()*100,2))\n",
    "y_pred = cross_val_predict(model,all_features,Targeted_feature,cv=10)\n",
    "sns.heatmap(confusion_matrix(Targeted_feature,y_pred),annot=True,fmt='3.0f',cmap=\"cool\")\n",
    "plt.title('Confusion matrix', y=1.05, size=15)"
   ]
  },
  {
   "cell_type": "code",
   "execution_count": 400,
   "metadata": {},
   "outputs": [
    {
     "name": "stdout",
     "output_type": "stream",
     "text": [
      "Accuracy 77.24\n",
      "The cross validated score 81.38\n"
     ]
    },
    {
     "data": {
      "text/plain": [
       "Text(0.5, 1.05, 'Confusion matrix')"
      ]
     },
     "execution_count": 400,
     "metadata": {},
     "output_type": "execute_result"
    },
    {
     "data": {
      "image/png": "[encoded data removed]",
      "text/plain": [
       "<Figure size 432x288 with 2 Axes>"
      ]
     },
     "metadata": {
      "needs_background": "light"
     },
     "output_type": "display_data"
    }
   ],
   "source": [
    "# Random Forests\n",
    "from sklearn.ensemble import RandomForestClassifier\n",
    "model1 = RandomForestClassifier(bootstrap=True, class_weight=None, criterion='gini',\n",
    "            max_depth=None, max_features='auto', max_leaf_nodes=None,\n",
    "            min_impurity_decrease=0.0, min_impurity_split=None,\n",
    "            min_samples_leaf=1, min_samples_split=2,\n",
    "            min_weight_fraction_leaf=0.0, n_estimators=100, n_jobs=None,\n",
    "            oob_score=False, random_state=None, verbose=0,\n",
    "            warm_start=False)\n",
    "model1.fit(X_train,y_train)\n",
    "\n",
    "prediction_rm1=model1.predict(X_test)\n",
    "\n",
    "print('Accuracy',round(accuracy_score(prediction_rm1,y_test)*100,2))\n",
    "result_rm1=cross_val_score(model1,all_features,Targeted_feature,cv=10,scoring='accuracy')\n",
    "print('The cross validated score',round(result_rm.mean()*100,2))\n",
    "y_pred = cross_val_predict(model1,all_features,Targeted_feature,cv=10)\n",
    "sns.heatmap(confusion_matrix(Targeted_feature,y_pred),annot=True,fmt='3.0f',cmap=\"cool\")\n",
    "plt.title('Confusion matrix', y=1.05, size=15)"
   ]
  },
  {
   "cell_type": "code",
   "execution_count": 401,
   "metadata": {},
   "outputs": [
    {
     "data": {
      "text/html": [
       "<div>\n",
       "<style scoped>\n",
       "    .dataframe tbody tr th:only-of-type {\n",
       "        vertical-align: middle;\n",
       "    }\n",
       "\n",
       "    .dataframe tbody tr th {\n",
       "        vertical-align: top;\n",
       "    }\n",
       "\n",
       "    .dataframe thead th {\n",
       "        text-align: right;\n",
       "    }\n",
       "</style>\n",
       "<table border=\"1\" class=\"dataframe\">\n",
       "  <thead>\n",
       "    <tr style=\"text-align: right;\">\n",
       "      <th></th>\n",
       "      <th>Model</th>\n",
       "      <th>Score</th>\n",
       "    </tr>\n",
       "  </thead>\n",
       "  <tbody>\n",
       "    <tr>\n",
       "      <th>6</th>\n",
       "      <td>Gradient Decent</td>\n",
       "      <td>0.817062</td>\n",
       "    </tr>\n",
       "    <tr>\n",
       "      <th>3</th>\n",
       "      <td>Random Forest</td>\n",
       "      <td>0.813792</td>\n",
       "    </tr>\n",
       "    <tr>\n",
       "      <th>9</th>\n",
       "      <td>Tuned RF</td>\n",
       "      <td>0.813779</td>\n",
       "    </tr>\n",
       "    <tr>\n",
       "      <th>0</th>\n",
       "      <td>support vector machine</td>\n",
       "      <td>0.813716</td>\n",
       "    </tr>\n",
       "    <tr>\n",
       "      <th>5</th>\n",
       "      <td>AdaBoostClassifier</td>\n",
       "      <td>0.805976</td>\n",
       "    </tr>\n",
       "    <tr>\n",
       "      <th>1</th>\n",
       "      <td>KNN</td>\n",
       "      <td>0.805951</td>\n",
       "    </tr>\n",
       "    <tr>\n",
       "      <th>2</th>\n",
       "      <td>Logistic Regression</td>\n",
       "      <td>0.800232</td>\n",
       "    </tr>\n",
       "    <tr>\n",
       "      <th>7</th>\n",
       "      <td>Linear Discriminant Analysis</td>\n",
       "      <td>0.797985</td>\n",
       "    </tr>\n",
       "    <tr>\n",
       "      <th>8</th>\n",
       "      <td>Decision Tree</td>\n",
       "      <td>0.794689</td>\n",
       "    </tr>\n",
       "    <tr>\n",
       "      <th>4</th>\n",
       "      <td>Naive Bayes</td>\n",
       "      <td>0.776687</td>\n",
       "    </tr>\n",
       "  </tbody>\n",
       "</table>\n",
       "</div>"
      ],
      "text/plain": [
       "                          Model     Score\n",
       "6               Gradient Decent  0.817062\n",
       "3                 Random Forest  0.813792\n",
       "9                      Tuned RF  0.813779\n",
       "0        support vector machine  0.813716\n",
       "5            AdaBoostClassifier  0.805976\n",
       "1                           KNN  0.805951\n",
       "2           Logistic Regression  0.800232\n",
       "7  Linear Discriminant Analysis  0.797985\n",
       "8                 Decision Tree  0.794689\n",
       "4                   Naive Bayes  0.776687"
      ]
     },
     "execution_count": 401,
     "metadata": {},
     "output_type": "execute_result"
    }
   ],
   "source": [
    "models = pd.DataFrame({\n",
    "    'Model': [\"support vector machine\",'KNN', 'Logistic Regression', \n",
    "              'Random Forest', 'Naive Bayes', 'AdaBoostClassifier', \n",
    "              'Gradient Decent', 'Linear Discriminant Analysis', \n",
    "              'Decision Tree',\"Tuned RF\"],\n",
    "    'Score': [result_svm.mean(),result_knn.mean(), result_lr.mean(), \n",
    "              result_rm.mean(), result_gnb.mean(), result_adb.mean(), \n",
    "              result_gbc.mean(), result_lda.mean(), result_tree.mean(),result_rm1.mean()]})\n",
    "models.sort_values(by='Score',ascending=False) #pd.DAtaFrame() is a function that takes a dictionary as an input. Within this list we determine key-values paires (column name-values within column)"
   ]
  },
  {
   "cell_type": "code",
   "execution_count": 402,
   "metadata": {},
   "outputs": [
    {
     "name": "stdout",
     "output_type": "stream",
     "text": [
      "89.34\n"
     ]
    }
   ],
   "source": [
    "# Random Forests\n",
    "from sklearn.ensemble import RandomForestClassifier\n",
    "random_forest = RandomForestClassifier(bootstrap=True, class_weight=None, criterion='gini',\n",
    "            max_depth=None, max_features='auto', max_leaf_nodes=None,\n",
    "            min_impurity_decrease=0.0, min_impurity_split=None,\n",
    "            min_samples_leaf=1, min_samples_split=2,\n",
    "            min_weight_fraction_leaf=0.0, n_estimators=400, n_jobs=1,\n",
    "            oob_score=False, random_state=None, verbose=0,\n",
    "            warm_start=False)\n",
    "random_forest.fit(train_X, train_Y)\n",
    "Y_pred_rf = random_forest.predict(test_X)\n",
    "random_forest.score(train_X,train_Y)\n",
    "acc_random_forest = round(random_forest.score(train_X, train_Y) * 100, 2)\n",
    "print(acc_random_forest)"
   ]
  },
  {
   "cell_type": "code",
   "execution_count": 403,
   "metadata": {},
   "outputs": [
    {
     "name": "stdout",
     "output_type": "stream",
     "text": [
      "Feature selection\n"
     ]
    },
    {
     "data": {
      "text/plain": [
       "<matplotlib.axes._subplots.AxesSubplot at 0xf846908>"
      ]
     },
     "execution_count": 403,
     "metadata": {},
     "output_type": "execute_result"
    },
    {
     "data": {
      "image/png": "[encoded data removed]",
      "text/plain": [
       "<Figure size 432x288 with 1 Axes>"
      ]
     },
     "metadata": {
      "needs_background": "light"
     },
     "output_type": "display_data"
    }
   ],
   "source": [
    "print(\"Feature selection\")\n",
    "pd.Series(random_forest.feature_importances_,X_train.columns).sort_values(ascending=True).plot.barh(width=0.8) #in a series x (theirs relative importance) and y values are taken"
   ]
  },
  {
   "cell_type": "code",
   "execution_count": 405,
   "metadata": {},
   "outputs": [],
   "source": [
    "submission = pd.DataFrame({\n",
    "        \"PassengerId\": df_test[\"PassengerId\"],\n",
    "        \"Survived\": Y_pred_rf})"
   ]
  },
  {
   "cell_type": "code",
   "execution_count": 406,
   "metadata": {},
   "outputs": [
    {
     "data": {
      "text/html": [
       "<div>\n",
       "<style scoped>\n",
       "    .dataframe tbody tr th:only-of-type {\n",
       "        vertical-align: middle;\n",
       "    }\n",
       "\n",
       "    .dataframe tbody tr th {\n",
       "        vertical-align: top;\n",
       "    }\n",
       "\n",
       "    .dataframe thead th {\n",
       "        text-align: right;\n",
       "    }\n",
       "</style>\n",
       "<table border=\"1\" class=\"dataframe\">\n",
       "  <thead>\n",
       "    <tr style=\"text-align: right;\">\n",
       "      <th></th>\n",
       "      <th>PassengerId</th>\n",
       "      <th>Survived</th>\n",
       "    </tr>\n",
       "  </thead>\n",
       "  <tbody>\n",
       "    <tr>\n",
       "      <th>0</th>\n",
       "      <td>892</td>\n",
       "      <td>0</td>\n",
       "    </tr>\n",
       "    <tr>\n",
       "      <th>1</th>\n",
       "      <td>893</td>\n",
       "      <td>0</td>\n",
       "    </tr>\n",
       "    <tr>\n",
       "      <th>2</th>\n",
       "      <td>894</td>\n",
       "      <td>0</td>\n",
       "    </tr>\n",
       "    <tr>\n",
       "      <th>3</th>\n",
       "      <td>895</td>\n",
       "      <td>0</td>\n",
       "    </tr>\n",
       "    <tr>\n",
       "      <th>4</th>\n",
       "      <td>896</td>\n",
       "      <td>0</td>\n",
       "    </tr>\n",
       "  </tbody>\n",
       "</table>\n",
       "</div>"
      ],
      "text/plain": [
       "   PassengerId  Survived\n",
       "0          892         0\n",
       "1          893         0\n",
       "2          894         0\n",
       "3          895         0\n",
       "4          896         0"
      ]
     },
     "execution_count": 406,
     "metadata": {},
     "output_type": "execute_result"
    }
   ],
   "source": [
    "submission.head()"
   ]
  },
  {
   "cell_type": "code",
   "execution_count": 407,
   "metadata": {},
   "outputs": [],
   "source": [
    "submission.to_csv('submission.csv', index=False)"
   ]
  },
  {
   "cell_type": "code",
   "execution_count": null,
   "metadata": {},
   "outputs": [],
   "source": []
  }
 ],
 "metadata": {
  "kernelspec": {
   "display_name": "Python 3",
   "language": "python",
   "name": "python3"
  },
  "language_info": {
   "codemirror_mode": {
    "name": "ipython",
    "version": 3
   },
   "file_extension": ".py",
   "mimetype": "text/x-python",
   "name": "python",
   "nbconvert_exporter": "python",
   "pygments_lexer": "ipython3",
   "version": "3.7.1"
  }
 },
 "nbformat": 4,
 "nbformat_minor": 2
}
